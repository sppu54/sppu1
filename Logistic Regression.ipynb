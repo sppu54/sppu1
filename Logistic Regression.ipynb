{
 "cells": [
  {
   "cell_type": "markdown",
   "metadata": {
    "id": "iuOMuteVEsTI"
   },
   "source": [
    "\n",
    "**ASSIGNMENT 5**"
   ]
  },
  {
   "cell_type": "markdown",
   "metadata": {
    "id": "GAz2QO6VFgma"
   },
   "source": [
    "**Import the required libraries**"
   ]
  },
  {
   "cell_type": "code",
   "execution_count": null,
   "metadata": {
    "id": "TgI8GbnGEFYz"
   },
   "outputs": [],
   "source": [
    "import pandas as pd\n",
    "import numpy as np\n",
    "import matplotlib.pyplot as plt\n",
    "import seaborn as sns\n",
    "%matplotlib inline"
   ]
  },
  {
   "cell_type": "markdown",
   "metadata": {
    "id": "tYDwkok7Fy7w"
   },
   "source": [
    "**Load the dataset**"
   ]
  },
  {
   "cell_type": "code",
   "execution_count": null,
   "metadata": {
    "id": "ERmwLXBmFO7I"
   },
   "outputs": [],
   "source": [
    "df= pd.read_csv('Social_Network_Ads.csv')"
   ]
  },
  {
   "cell_type": "code",
   "execution_count": null,
   "metadata": {
    "colab": {
     "base_uri": "https://localhost:8080/"
    },
    "id": "g1lRBNPyFO4-",
    "outputId": "126987a4-46ff-4ea7-91b4-c19645a5fb85"
   },
   "outputs": [],
   "source": [
    "df.shape"
   ]
  },
  {
   "cell_type": "code",
   "execution_count": null,
   "metadata": {
    "colab": {
     "base_uri": "https://localhost:8080/",
     "height": 206
    },
    "id": "r8ulwTY1FO2P",
    "outputId": "39673400-1d16-4ae7-e3ae-467a01b6cc8d"
   },
   "outputs": [],
   "source": [
    "df.head()"
   ]
  },
  {
   "cell_type": "markdown",
   "metadata": {
    "id": "TpcMbIuwFoYH"
   },
   "source": [
    "**Drop the column User ID**"
   ]
  },
  {
   "cell_type": "code",
   "execution_count": null,
   "metadata": {
    "id": "GWN9yF7LFOze"
   },
   "outputs": [],
   "source": [
    "df.drop(['User ID'],axis=1,inplace=True)"
   ]
  },
  {
   "cell_type": "code",
   "execution_count": null,
   "metadata": {
    "colab": {
     "base_uri": "https://localhost:8080/",
     "height": 206
    },
    "id": "_8doh1aAFOqu",
    "outputId": "5e2006e9-e094-4b58-ed22-e4feb36c9a36"
   },
   "outputs": [],
   "source": [
    "df.head()"
   ]
  },
  {
   "cell_type": "code",
   "execution_count": null,
   "metadata": {
    "colab": {
     "base_uri": "https://localhost:8080/"
    },
    "id": "Fq__GA8XF_hn",
    "outputId": "67a5af0f-3d58-4de5-a724-d8e152988974"
   },
   "outputs": [],
   "source": [
    "df.Purchased.value_counts()"
   ]
  },
  {
   "cell_type": "code",
   "execution_count": null,
   "metadata": {
    "colab": {
     "base_uri": "https://localhost:8080/"
    },
    "id": "82_t1F9wF_fe",
    "outputId": "053ec14b-5345-489a-cf41-68f8ddb4cd71"
   },
   "outputs": [],
   "source": [
    "df.Gender.value_counts()"
   ]
  },
  {
   "cell_type": "code",
   "execution_count": null,
   "metadata": {
    "colab": {
     "base_uri": "https://localhost:8080/"
    },
    "id": "7Wmi3hQ9F_cy",
    "outputId": "53e3e0ef-257c-4a55-a247-28953e108a36"
   },
   "outputs": [],
   "source": [
    "df.dtypes"
   ]
  },
  {
   "cell_type": "markdown",
   "metadata": {
    "id": "7v7TDeb8GIr_"
   },
   "source": [
    "**Data Preprocessing**"
   ]
  },
  {
   "cell_type": "code",
   "execution_count": null,
   "metadata": {
    "colab": {
     "base_uri": "https://localhost:8080/"
    },
    "id": "neB_0wTQF_aP",
    "outputId": "b3898da1-7304-49a3-b5dc-48cd89d96668"
   },
   "outputs": [],
   "source": [
    "df.isnull().sum()"
   ]
  },
  {
   "cell_type": "code",
   "execution_count": null,
   "metadata": {
    "colab": {
     "base_uri": "https://localhost:8080/",
     "height": 300
    },
    "id": "FJvgI1DMF_X_",
    "outputId": "51a5f7ef-2c29-4cef-ff96-4880cb1e49b9"
   },
   "outputs": [],
   "source": [
    "df.describe()"
   ]
  },
  {
   "cell_type": "code",
   "execution_count": null,
   "metadata": {
    "colab": {
     "base_uri": "https://localhost:8080/",
     "height": 314
    },
    "id": "Ac6F-9xlF_VX",
    "outputId": "430b1910-1ee0-4c92-c30d-5e19e557879c"
   },
   "outputs": [],
   "source": [
    "g = sns.catplot(x = \"Gender\",y = \"Purchased\",data = df,kind = \"bar\",height = 4)\n",
    "g.set_ylabels(\"Purchased Probability\")\n",
    "plt.show"
   ]
  },
  {
   "cell_type": "code",
   "execution_count": null,
   "metadata": {
    "colab": {
     "base_uri": "https://localhost:8080/",
     "height": 374
    },
    "id": "in-l1n8KF_TA",
    "outputId": "c1b1ec36-5c63-45d2-dfc1-0220c5f26924"
   },
   "outputs": [],
   "source": [
    "M2 = pd.crosstab(df.Gender, df.Purchased, normalize='index')\n",
    "print(M2)\n",
    "M2.plot.bar(figsize=(6,4),stacked=True)\n",
    "plt.legend(title='Gender vs Purchased', loc='upper right')\n",
    "plt.show()"
   ]
  },
  {
   "cell_type": "code",
   "execution_count": null,
   "metadata": {
    "colab": {
     "base_uri": "https://localhost:8080/",
     "height": 505
    },
    "id": "UejY8he4F_QX",
    "outputId": "562a7036-6659-4175-a0cb-a56f6ca473b9"
   },
   "outputs": [],
   "source": [
    "corr = df.corr()\n",
    "print(corr.shape)\n",
    "plt.figure(figsize=(8,8))\n",
    "sns.heatmap(corr, cbar=True, square= True, fmt='.1f', annot=True, annot_kws={'size':15}, cmap='Greens')"
   ]
  },
  {
   "cell_type": "markdown",
   "metadata": {
    "id": "Ib2b6IJWGcbL"
   },
   "source": [
    "**Get Input Variable into X and Outcome variable into Y**"
   ]
  },
  {
   "cell_type": "code",
   "execution_count": null,
   "metadata": {
    "colab": {
     "base_uri": "https://localhost:8080/",
     "height": 206
    },
    "id": "7-eTmc2oGZ9k",
    "outputId": "358eb03b-f42d-4929-9c8e-e15a5117b1ed"
   },
   "outputs": [],
   "source": [
    "X=df.drop(['Gender','Purchased'],axis=1)\n",
    "Y= df['Purchased']\n",
    "X.head()"
   ]
  },
  {
   "cell_type": "markdown",
   "metadata": {
    "id": "q5ldH0AVGkzP"
   },
   "source": [
    "**Split the data into Train set and Test set**"
   ]
  },
  {
   "cell_type": "code",
   "execution_count": null,
   "metadata": {
    "colab": {
     "base_uri": "https://localhost:8080/"
    },
    "id": "iEjdkhlLGZ6O",
    "outputId": "e5f17f8a-f397-4792-aba8-13b264cfdc4f"
   },
   "outputs": [],
   "source": [
    "from sklearn.model_selection import train_test_split\n",
    "# Shuffle and split the data into training and testing subsets\n",
    "X_train, X_test, y_train, y_test = train_test_split(X, Y, test_size=0.2, random_state = 42)\n",
    "\n",
    "# Success\n",
    "print(\"Training and testing split was successful.\")"
   ]
  },
  {
   "cell_type": "markdown",
   "metadata": {
    "id": "7p_-4aaUGs-4"
   },
   "source": [
    "**Build the model**"
   ]
  },
  {
   "cell_type": "code",
   "execution_count": null,
   "metadata": {
    "colab": {
     "base_uri": "https://localhost:8080/"
    },
    "id": "dkdxu7JUGZ4I",
    "outputId": "3dde4890-e56b-40cf-a579-78909455c85a"
   },
   "outputs": [],
   "source": [
    "from sklearn.linear_model import LogisticRegression\n",
    "basemodel= LogisticRegression()\n",
    "basemodel.fit(X_train,y_train)\n",
    "print(\"Training accuracy:\", basemodel.score(X_train,y_train)*100)"
   ]
  },
  {
   "cell_type": "markdown",
   "metadata": {
    "id": "lXVM7eOiGya_"
   },
   "source": [
    "**Make predictions on test data**"
   ]
  },
  {
   "cell_type": "code",
   "execution_count": null,
   "metadata": {
    "colab": {
     "base_uri": "https://localhost:8080/"
    },
    "id": "lTSscSnuGZ1W",
    "outputId": "ea7c0406-d771-49fa-b872-e3151a8e78ac"
   },
   "outputs": [],
   "source": [
    "y_predict= basemodel.predict(X_test)\n",
    "print(\"Testing accuracy:\", basemodel.score(X_test,y_test)*100)"
   ]
  },
  {
   "cell_type": "markdown",
   "metadata": {
    "id": "TZbGzcB3G4lh"
   },
   "source": [
    "**Normalize the data using Min Max Normalization or any other technique**"
   ]
  },
  {
   "cell_type": "code",
   "execution_count": null,
   "metadata": {
    "id": "NymGlk3hGZyt"
   },
   "outputs": [],
   "source": [
    "from sklearn.preprocessing import MinMaxScaler\n",
    "scaler=MinMaxScaler()"
   ]
  },
  {
   "cell_type": "code",
   "execution_count": null,
   "metadata": {
    "colab": {
     "base_uri": "https://localhost:8080/"
    },
    "id": "j6Y6qvMZGZwH",
    "outputId": "b7ba4e58-4d89-4052-f930-55dabfd75195"
   },
   "outputs": [],
   "source": [
    "X=df[['Age','EstimatedSalary']]\n",
    "X_scaled= scaler.fit_transform(X)\n",
    "\n",
    "X_train, X_test, y_train, y_test = train_test_split(X_scaled, Y, test_size=0.2, random_state = 42)\n",
    "print(\"Training and testing split was successful.\")"
   ]
  },
  {
   "cell_type": "code",
   "execution_count": null,
   "metadata": {
    "colab": {
     "base_uri": "https://localhost:8080/"
    },
    "id": "1RSm1FISGZtY",
    "outputId": "49865e77-c470-4bf2-dcd6-cfdc59fa7f8c"
   },
   "outputs": [],
   "source": [
    "model= LogisticRegression()\n",
    "model.fit(X_train,y_train)\n",
    "y_predict= model.predict(X_test)\n",
    "print(\"Training accuracy:\", model.score(X_train,y_train)*100)\n",
    "print(\"Testing accuracy:\", model.score(X_test,y_test)*100)"
   ]
  },
  {
   "cell_type": "markdown",
   "metadata": {
    "id": "OfxFw21LHFV7"
   },
   "source": [
    "### Measure the performance of the model\n",
    "\n",
    "1. Measure the accuracy\n",
    "2. Measure the perormance using Precision, Recall, Fscore, Support etc."
   ]
  },
  {
   "cell_type": "code",
   "execution_count": null,
   "metadata": {
    "colab": {
     "base_uri": "https://localhost:8080/"
    },
    "id": "4lZXCT0vGZoa",
    "outputId": "da656723-f2c9-42dc-fe86-285e1e38cd90"
   },
   "outputs": [],
   "source": [
    "from sklearn.metrics import accuracy_score\n",
    "Acc=accuracy_score(y_test,y_predict)\n",
    "print(Acc)"
   ]
  },
  {
   "cell_type": "code",
   "execution_count": null,
   "metadata": {
    "colab": {
     "base_uri": "https://localhost:8080/"
    },
    "id": "ZNKs4p_hGZlg",
    "outputId": "66679ec4-0a28-4d17-b518-dac386a7a94b"
   },
   "outputs": [],
   "source": [
    "from sklearn.metrics import confusion_matrix\n",
    "cm= confusion_matrix(y_test,y_predict)\n",
    "print(cm)"
   ]
  },
  {
   "cell_type": "code",
   "execution_count": null,
   "metadata": {},
   "outputs": [],
   "source": [
    "plot_confusion_matrix(conf_mat=cm, figsize=(5,5), show_normed=True)\n",
    "plt.show()"
   ]
  },
  {
   "cell_type": "code",
   "execution_count": null,
   "metadata": {
    "colab": {
     "base_uri": "https://localhost:8080/"
    },
    "id": "4Gx2qAZoHmNE",
    "outputId": "5b4162fd-d1ff-48d1-e408-0c5982269873"
   },
   "outputs": [],
   "source": [
    "from sklearn.metrics import precision_recall_fscore_support\n",
    "prf= precision_recall_fscore_support(y_test,y_predict)\n",
    "print('precision:',prf[0])\n",
    "print('Recall:',prf[1])\n",
    "print('fscore:',prf[2])\n",
    "print('support:',prf[3])"
   ]
  },
  {
   "cell_type": "code",
   "execution_count": null,
   "metadata": {
    "colab": {
     "base_uri": "https://localhost:8080/"
    },
    "id": "073BJlMfHmKX",
    "outputId": "9da24a87-b84e-49f2-9245-1d03ab4b49fd"
   },
   "outputs": [],
   "source": [
    "from sklearn.metrics import classification_report\n",
    "cr= classification_report(y_test,y_predict)\n",
    "print(cr)"
   ]
  }
 ],
 "metadata": {
  "colab": {
   "provenance": []
  },
  "kernelspec": {
   "display_name": "Python 3 (ipykernel)",
   "language": "python",
   "name": "python3"
  },
  "language_info": {
   "codemirror_mode": {
    "name": "ipython",
    "version": 3
   },
   "file_extension": ".py",
   "mimetype": "text/x-python",
   "name": "python",
   "nbconvert_exporter": "python",
   "pygments_lexer": "ipython3",
   "version": "3.11.7"
  }
 },
 "nbformat": 4,
 "nbformat_minor": 4
}
