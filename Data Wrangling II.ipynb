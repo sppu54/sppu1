{
 "cells": [
  {
   "cell_type": "markdown",
   "id": "946a0f8f-cf11-44da-84a8-6642b90d6faf",
   "metadata": {},
   "source": [
    "# Data Wrangling II"
   ]
  },
  {
   "cell_type": "markdown",
   "id": "b4b8c75f-9b0b-49d0-b3a5-fa7bb68d3ee5",
   "metadata": {},
   "source": [
    "Create an “Academic performance” dataset of students and perform the following operations using Python.\n",
    "1.Scan all variables for missing values and inconsistencies. If there are missing values and/or inconsistencies, use any of the suitable techniques to deal with them.\n",
    "2.Scan all numeric variables for outliers. If there are outliers, use any of the suitable techniques to deal with them.\n",
    "3.Apply data transformations on at least one of the variables. The purpose of this transformation should be one of the following reasons: to change the scale for better understanding of the variable, to convert a non-linear relation into a linear one, or to decrease the skewness and convert the distribution into a normal distribution. Reason and document your approach properly."
   ]
  },
  {
   "cell_type": "code",
   "execution_count": 1,
   "id": "41dc1aee-5c3a-4e86-822b-2c5f35dd2f5c",
   "metadata": {},
   "outputs": [],
   "source": [
    "import pandas as pd\n",
    "import numpy as np\n",
    "import matplotlib.pyplot as plt\n",
    "%matplotlib inline\n",
    "import seaborn as sns"
   ]
  },
  {
   "cell_type": "code",
   "execution_count": 2,
   "id": "ce19ad62-bad3-4734-9ae6-c4f61318ab1e",
   "metadata": {},
   "outputs": [],
   "source": [
    "df = pd.read_csv(r'C:\\Users\\CHETAN\\Desktop\\tecdiv.csv')"
   ]
  },
  {
   "cell_type": "code",
   "execution_count": 3,
   "id": "52d65a63-d674-4245-bcb3-9ef05fa70a86",
   "metadata": {},
   "outputs": [
    {
     "data": {
      "text/html": [
       "<div>\n",
       "<style scoped>\n",
       "    .dataframe tbody tr th:only-of-type {\n",
       "        vertical-align: middle;\n",
       "    }\n",
       "\n",
       "    .dataframe tbody tr th {\n",
       "        vertical-align: top;\n",
       "    }\n",
       "\n",
       "    .dataframe thead th {\n",
       "        text-align: right;\n",
       "    }\n",
       "</style>\n",
       "<table border=\"1\" class=\"dataframe\">\n",
       "  <thead>\n",
       "    <tr style=\"text-align: right;\">\n",
       "      <th></th>\n",
       "      <th>Timestamp</th>\n",
       "      <th>Email Address</th>\n",
       "      <th>Name</th>\n",
       "      <th>Email</th>\n",
       "      <th>Roll no</th>\n",
       "      <th>PRN No.</th>\n",
       "      <th>Mobile No.</th>\n",
       "      <th>First year:   Sem 1</th>\n",
       "      <th>First year:   Sem 2</th>\n",
       "      <th>Second year:   Sem 1</th>\n",
       "      <th>Second year:   Sem 2</th>\n",
       "    </tr>\n",
       "  </thead>\n",
       "  <tbody>\n",
       "    <tr>\n",
       "      <th>0</th>\n",
       "      <td>1/17/2022 12:45:09</td>\n",
       "      <td>sejal.zambare19@pccoepune.org</td>\n",
       "      <td>Sejal Zambare</td>\n",
       "      <td>sejal.zambare19@gmail.com</td>\n",
       "      <td>TECOC359</td>\n",
       "      <td>72026841K</td>\n",
       "      <td>8208217782</td>\n",
       "      <td>8.40</td>\n",
       "      <td>8.60</td>\n",
       "      <td>9.80</td>\n",
       "      <td>9.90</td>\n",
       "    </tr>\n",
       "    <tr>\n",
       "      <th>1</th>\n",
       "      <td>1/17/2022 12:45:44</td>\n",
       "      <td>rushikesh.thorat19@pccoepune.org</td>\n",
       "      <td>Rushikesh Vilas Thorat</td>\n",
       "      <td>rushikesh.thorat19@pccoepune.org</td>\n",
       "      <td>TECOC347</td>\n",
       "      <td>72026776F</td>\n",
       "      <td>9021261925</td>\n",
       "      <td>8.14</td>\n",
       "      <td>8.14</td>\n",
       "      <td>9.32</td>\n",
       "      <td>9.82</td>\n",
       "    </tr>\n",
       "    <tr>\n",
       "      <th>2</th>\n",
       "      <td>1/17/2022 12:46:10</td>\n",
       "      <td>atharv.sontakke19@pccoepune.org</td>\n",
       "      <td>Atharv Sontakke</td>\n",
       "      <td>atharv123sontakke@gmail.com</td>\n",
       "      <td>TECOC340</td>\n",
       "      <td>72026742M</td>\n",
       "      <td>9009804629</td>\n",
       "      <td>6.61</td>\n",
       "      <td>6.61</td>\n",
       "      <td>9.14</td>\n",
       "      <td>9.14</td>\n",
       "    </tr>\n",
       "    <tr>\n",
       "      <th>3</th>\n",
       "      <td>1/17/2022 12:46:21</td>\n",
       "      <td>amisha.sherekar19@pccoepune.org</td>\n",
       "      <td>Amisha Sunil Sherekar</td>\n",
       "      <td>amisha.sherekar19@pccoepune.org</td>\n",
       "      <td>TECOC328</td>\n",
       "      <td>72026696D</td>\n",
       "      <td>8698227548</td>\n",
       "      <td>7.20</td>\n",
       "      <td>7.30</td>\n",
       "      <td>8.90</td>\n",
       "      <td>9.20</td>\n",
       "    </tr>\n",
       "    <tr>\n",
       "      <th>4</th>\n",
       "      <td>1/17/2022 12:46:31</td>\n",
       "      <td>saurabh.sawardekar19@pccoepune.org</td>\n",
       "      <td>Saurabh Raju Sawardekar</td>\n",
       "      <td>saurabh.sawardekar19@pccoepune.org</td>\n",
       "      <td>TECOC326</td>\n",
       "      <td>72026682D</td>\n",
       "      <td>7774072850</td>\n",
       "      <td>7.05</td>\n",
       "      <td>7.45</td>\n",
       "      <td>9.05</td>\n",
       "      <td>9.40</td>\n",
       "    </tr>\n",
       "  </tbody>\n",
       "</table>\n",
       "</div>"
      ],
      "text/plain": [
       "            Timestamp                       Email Address  \\\n",
       "0  1/17/2022 12:45:09       sejal.zambare19@pccoepune.org   \n",
       "1  1/17/2022 12:45:44    rushikesh.thorat19@pccoepune.org   \n",
       "2  1/17/2022 12:46:10     atharv.sontakke19@pccoepune.org   \n",
       "3  1/17/2022 12:46:21     amisha.sherekar19@pccoepune.org   \n",
       "4  1/17/2022 12:46:31  saurabh.sawardekar19@pccoepune.org   \n",
       "\n",
       "                      Name                               Email  Roll no   \\\n",
       "0            Sejal Zambare           sejal.zambare19@gmail.com  TECOC359   \n",
       "1   Rushikesh Vilas Thorat    rushikesh.thorat19@pccoepune.org  TECOC347   \n",
       "2          Atharv Sontakke         atharv123sontakke@gmail.com  TECOC340   \n",
       "3    Amisha Sunil Sherekar     amisha.sherekar19@pccoepune.org  TECOC328   \n",
       "4  Saurabh Raju Sawardekar  saurabh.sawardekar19@pccoepune.org  TECOC326   \n",
       "\n",
       "     PRN No.  Mobile No.  First year:   Sem 1  First year:   Sem 2  \\\n",
       "0  72026841K  8208217782                 8.40                 8.60   \n",
       "1  72026776F  9021261925                 8.14                 8.14   \n",
       "2  72026742M  9009804629                 6.61                 6.61   \n",
       "3  72026696D  8698227548                 7.20                 7.30   \n",
       "4  72026682D  7774072850                 7.05                 7.45   \n",
       "\n",
       "   Second year:   Sem 1  Second year:   Sem 2  \n",
       "0                  9.80                  9.90  \n",
       "1                  9.32                  9.82  \n",
       "2                  9.14                  9.14  \n",
       "3                  8.90                  9.20  \n",
       "4                  9.05                  9.40  "
      ]
     },
     "execution_count": 3,
     "metadata": {},
     "output_type": "execute_result"
    }
   ],
   "source": [
    "df.head()"
   ]
  },
  {
   "cell_type": "code",
   "execution_count": 4,
   "id": "343ec8f7-248f-4802-bcac-0e0a2c33284c",
   "metadata": {},
   "outputs": [
    {
     "data": {
      "text/html": [
       "<div>\n",
       "<style scoped>\n",
       "    .dataframe tbody tr th:only-of-type {\n",
       "        vertical-align: middle;\n",
       "    }\n",
       "\n",
       "    .dataframe tbody tr th {\n",
       "        vertical-align: top;\n",
       "    }\n",
       "\n",
       "    .dataframe thead th {\n",
       "        text-align: right;\n",
       "    }\n",
       "</style>\n",
       "<table border=\"1\" class=\"dataframe\">\n",
       "  <thead>\n",
       "    <tr style=\"text-align: right;\">\n",
       "      <th></th>\n",
       "      <th>Timestamp</th>\n",
       "      <th>Email Address</th>\n",
       "      <th>Name</th>\n",
       "      <th>Email</th>\n",
       "      <th>Roll no</th>\n",
       "      <th>PRN No.</th>\n",
       "      <th>Mobile No.</th>\n",
       "      <th>First year:   Sem 1</th>\n",
       "      <th>First year:   Sem 2</th>\n",
       "      <th>Second year:   Sem 1</th>\n",
       "      <th>Second year:   Sem 2</th>\n",
       "    </tr>\n",
       "  </thead>\n",
       "  <tbody>\n",
       "    <tr>\n",
       "      <th>59</th>\n",
       "      <td>1/20/2022 9:24:40</td>\n",
       "      <td>pratik.meshram20@pccoepune.org</td>\n",
       "      <td>Pratik Amrut Meshram</td>\n",
       "      <td>pratik.meshram20@pccoepune.org</td>\n",
       "      <td>TECOC381</td>\n",
       "      <td>72164278M</td>\n",
       "      <td>7666479857</td>\n",
       "      <td>0.00</td>\n",
       "      <td>0.00</td>\n",
       "      <td>9.09</td>\n",
       "      <td>9.36</td>\n",
       "    </tr>\n",
       "    <tr>\n",
       "      <th>60</th>\n",
       "      <td>1/20/2022 9:36:14</td>\n",
       "      <td>prasad.zore19@pccoepune.org</td>\n",
       "      <td>Prasad Zore</td>\n",
       "      <td>prasad.zore@outlook.com</td>\n",
       "      <td>TECOC360</td>\n",
       "      <td>72026843F</td>\n",
       "      <td>7387645749</td>\n",
       "      <td>8.31</td>\n",
       "      <td>8.27</td>\n",
       "      <td>9.45</td>\n",
       "      <td>9.77</td>\n",
       "    </tr>\n",
       "    <tr>\n",
       "      <th>61</th>\n",
       "      <td>1/20/2022 9:42:34</td>\n",
       "      <td>sudhir.varu19@pccoepune.org</td>\n",
       "      <td>SUDHIR VARU</td>\n",
       "      <td>sudhirvaru01@gmail.com</td>\n",
       "      <td>TECOC351</td>\n",
       "      <td>72026799E</td>\n",
       "      <td>9657017250</td>\n",
       "      <td>8.31</td>\n",
       "      <td>8.42</td>\n",
       "      <td>8.53</td>\n",
       "      <td>8.64</td>\n",
       "    </tr>\n",
       "    <tr>\n",
       "      <th>62</th>\n",
       "      <td>1/20/2022 10:22:05</td>\n",
       "      <td>bhagyashree.takale19@pccoepune.org</td>\n",
       "      <td>Bhagyashree Gorakh Takale</td>\n",
       "      <td>bbhagyashree002@gmail.com</td>\n",
       "      <td>TECOC345</td>\n",
       "      <td>72026760K</td>\n",
       "      <td>8805813576</td>\n",
       "      <td>8.70</td>\n",
       "      <td>8.50</td>\n",
       "      <td>8.70</td>\n",
       "      <td>8.80</td>\n",
       "    </tr>\n",
       "    <tr>\n",
       "      <th>63</th>\n",
       "      <td>1/20/2022 10:38:06</td>\n",
       "      <td>sarvesh.waghmare19@pccoepune.org</td>\n",
       "      <td>Waghmare Sarvesh Jitendra</td>\n",
       "      <td>sarvesh.waghmare19@pccoepune.org</td>\n",
       "      <td>TECOC356</td>\n",
       "      <td>72026817G</td>\n",
       "      <td>7218935035</td>\n",
       "      <td>6.90</td>\n",
       "      <td>7.07</td>\n",
       "      <td>9.05</td>\n",
       "      <td>9.20</td>\n",
       "    </tr>\n",
       "  </tbody>\n",
       "</table>\n",
       "</div>"
      ],
      "text/plain": [
       "             Timestamp                       Email Address  \\\n",
       "59   1/20/2022 9:24:40      pratik.meshram20@pccoepune.org   \n",
       "60   1/20/2022 9:36:14         prasad.zore19@pccoepune.org   \n",
       "61   1/20/2022 9:42:34         sudhir.varu19@pccoepune.org   \n",
       "62  1/20/2022 10:22:05  bhagyashree.takale19@pccoepune.org   \n",
       "63  1/20/2022 10:38:06    sarvesh.waghmare19@pccoepune.org   \n",
       "\n",
       "                         Name                             Email  Roll no   \\\n",
       "59       Pratik Amrut Meshram    pratik.meshram20@pccoepune.org  TECOC381   \n",
       "60                Prasad Zore           prasad.zore@outlook.com  TECOC360   \n",
       "61                SUDHIR VARU            sudhirvaru01@gmail.com  TECOC351   \n",
       "62  Bhagyashree Gorakh Takale         bbhagyashree002@gmail.com  TECOC345   \n",
       "63  Waghmare Sarvesh Jitendra  sarvesh.waghmare19@pccoepune.org  TECOC356   \n",
       "\n",
       "      PRN No.  Mobile No.  First year:   Sem 1  First year:   Sem 2  \\\n",
       "59  72164278M  7666479857                 0.00                 0.00   \n",
       "60  72026843F  7387645749                 8.31                 8.27   \n",
       "61  72026799E  9657017250                 8.31                 8.42   \n",
       "62  72026760K  8805813576                 8.70                 8.50   \n",
       "63  72026817G  7218935035                 6.90                 7.07   \n",
       "\n",
       "    Second year:   Sem 1  Second year:   Sem 2  \n",
       "59                  9.09                  9.36  \n",
       "60                  9.45                  9.77  \n",
       "61                  8.53                  8.64  \n",
       "62                  8.70                  8.80  \n",
       "63                  9.05                  9.20  "
      ]
     },
     "execution_count": 4,
     "metadata": {},
     "output_type": "execute_result"
    }
   ],
   "source": [
    "df.tail()"
   ]
  },
  {
   "cell_type": "code",
   "execution_count": 6,
   "id": "4eace379-a6a3-45d0-9de3-8d30a695d401",
   "metadata": {},
   "outputs": [
    {
     "data": {
      "text/html": [
       "<div>\n",
       "<style scoped>\n",
       "    .dataframe tbody tr th:only-of-type {\n",
       "        vertical-align: middle;\n",
       "    }\n",
       "\n",
       "    .dataframe tbody tr th {\n",
       "        vertical-align: top;\n",
       "    }\n",
       "\n",
       "    .dataframe thead th {\n",
       "        text-align: right;\n",
       "    }\n",
       "</style>\n",
       "<table border=\"1\" class=\"dataframe\">\n",
       "  <thead>\n",
       "    <tr style=\"text-align: right;\">\n",
       "      <th></th>\n",
       "      <th>Mobile No.</th>\n",
       "      <th>First year:   Sem 1</th>\n",
       "      <th>First year:   Sem 2</th>\n",
       "      <th>Second year:   Sem 1</th>\n",
       "      <th>Second year:   Sem 2</th>\n",
       "    </tr>\n",
       "  </thead>\n",
       "  <tbody>\n",
       "    <tr>\n",
       "      <th>count</th>\n",
       "      <td>6.400000e+01</td>\n",
       "      <td>64.000000</td>\n",
       "      <td>64.000000</td>\n",
       "      <td>64.000000</td>\n",
       "      <td>64.000000</td>\n",
       "    </tr>\n",
       "    <tr>\n",
       "      <th>mean</th>\n",
       "      <td>8.623097e+09</td>\n",
       "      <td>8.834219</td>\n",
       "      <td>9.095469</td>\n",
       "      <td>9.292031</td>\n",
       "      <td>9.377187</td>\n",
       "    </tr>\n",
       "    <tr>\n",
       "      <th>std</th>\n",
       "      <td>9.132070e+08</td>\n",
       "      <td>11.187839</td>\n",
       "      <td>11.171986</td>\n",
       "      <td>0.528523</td>\n",
       "      <td>0.495185</td>\n",
       "    </tr>\n",
       "    <tr>\n",
       "      <th>min</th>\n",
       "      <td>7.028870e+09</td>\n",
       "      <td>0.000000</td>\n",
       "      <td>0.000000</td>\n",
       "      <td>6.900000</td>\n",
       "      <td>7.200000</td>\n",
       "    </tr>\n",
       "    <tr>\n",
       "      <th>25%</th>\n",
       "      <td>7.766559e+09</td>\n",
       "      <td>7.237500</td>\n",
       "      <td>7.655000</td>\n",
       "      <td>9.050000</td>\n",
       "      <td>9.140000</td>\n",
       "    </tr>\n",
       "    <tr>\n",
       "      <th>50%</th>\n",
       "      <td>8.805720e+09</td>\n",
       "      <td>8.260000</td>\n",
       "      <td>8.400000</td>\n",
       "      <td>9.445000</td>\n",
       "      <td>9.450000</td>\n",
       "    </tr>\n",
       "    <tr>\n",
       "      <th>75%</th>\n",
       "      <td>9.335094e+09</td>\n",
       "      <td>8.802500</td>\n",
       "      <td>9.115000</td>\n",
       "      <td>9.645000</td>\n",
       "      <td>9.725000</td>\n",
       "    </tr>\n",
       "    <tr>\n",
       "      <th>max</th>\n",
       "      <td>9.975810e+09</td>\n",
       "      <td>95.000000</td>\n",
       "      <td>95.000000</td>\n",
       "      <td>9.910000</td>\n",
       "      <td>9.950000</td>\n",
       "    </tr>\n",
       "  </tbody>\n",
       "</table>\n",
       "</div>"
      ],
      "text/plain": [
       "         Mobile No.  First year:   Sem 1  First year:   Sem 2  \\\n",
       "count  6.400000e+01            64.000000            64.000000   \n",
       "mean   8.623097e+09             8.834219             9.095469   \n",
       "std    9.132070e+08            11.187839            11.171986   \n",
       "min    7.028870e+09             0.000000             0.000000   \n",
       "25%    7.766559e+09             7.237500             7.655000   \n",
       "50%    8.805720e+09             8.260000             8.400000   \n",
       "75%    9.335094e+09             8.802500             9.115000   \n",
       "max    9.975810e+09            95.000000            95.000000   \n",
       "\n",
       "       Second year:   Sem 1  Second year:   Sem 2  \n",
       "count             64.000000             64.000000  \n",
       "mean               9.292031              9.377187  \n",
       "std                0.528523              0.495185  \n",
       "min                6.900000              7.200000  \n",
       "25%                9.050000              9.140000  \n",
       "50%                9.445000              9.450000  \n",
       "75%                9.645000              9.725000  \n",
       "max                9.910000              9.950000  "
      ]
     },
     "execution_count": 6,
     "metadata": {},
     "output_type": "execute_result"
    }
   ],
   "source": [
    "# Describtion about the dataset\n",
    "df.describe()"
   ]
  },
  {
   "cell_type": "code",
   "execution_count": 7,
   "id": "cb5c56e5-9ff9-44b4-a53d-4cf0535f7fe6",
   "metadata": {},
   "outputs": [
    {
     "name": "stdout",
     "output_type": "stream",
     "text": [
      "<class 'pandas.core.frame.DataFrame'>\n",
      "RangeIndex: 64 entries, 0 to 63\n",
      "Data columns (total 11 columns):\n",
      " #   Column                Non-Null Count  Dtype  \n",
      "---  ------                --------------  -----  \n",
      " 0   Timestamp             64 non-null     object \n",
      " 1   Email Address         64 non-null     object \n",
      " 2   Name                  64 non-null     object \n",
      " 3   Email                 64 non-null     object \n",
      " 4   Roll no               64 non-null     object \n",
      " 5   PRN No.               64 non-null     object \n",
      " 6   Mobile No.            64 non-null     int64  \n",
      " 7   First year:   Sem 1   64 non-null     float64\n",
      " 8   First year:   Sem 2   64 non-null     float64\n",
      " 9   Second year:   Sem 1  64 non-null     float64\n",
      " 10  Second year:   Sem 2  64 non-null     float64\n",
      "dtypes: float64(4), int64(1), object(6)\n",
      "memory usage: 5.6+ KB\n"
     ]
    }
   ],
   "source": [
    "# Information about the dataset\n",
    "df.info()"
   ]
  },
  {
   "cell_type": "code",
   "execution_count": 8,
   "id": "022a7386-4266-44ce-8d31-2848b4dddca7",
   "metadata": {},
   "outputs": [
    {
     "data": {
      "text/plain": [
       "Index(['Timestamp', 'Email Address', 'Name', 'Email', 'Roll no ', 'PRN No.',\n",
       "       'Mobile No.', 'First year:   Sem 1', 'First year:   Sem 2',\n",
       "       'Second year:   Sem 1', 'Second year:   Sem 2'],\n",
       "      dtype='object')"
      ]
     },
     "execution_count": 8,
     "metadata": {},
     "output_type": "execute_result"
    }
   ],
   "source": [
    "df.columns"
   ]
  },
  {
   "cell_type": "code",
   "execution_count": 10,
   "id": "1c841200-f65c-43f6-a093-4ae827100040",
   "metadata": {},
   "outputs": [
    {
     "data": {
      "text/plain": [
       "Timestamp               0\n",
       "Email Address           0\n",
       "Name                    0\n",
       "Email                   0\n",
       "Roll no                 0\n",
       "PRN No.                 0\n",
       "Mobile No.              0\n",
       "First year:   Sem 1     0\n",
       "First year:   Sem 2     0\n",
       "Second year:   Sem 1    0\n",
       "Second year:   Sem 2    0\n",
       "dtype: int64"
      ]
     },
     "execution_count": 10,
     "metadata": {},
     "output_type": "execute_result"
    }
   ],
   "source": [
    "df.isnull().sum()"
   ]
  },
  {
   "cell_type": "code",
   "execution_count": 23,
   "id": "91304fff-7630-463e-938f-7cf88ccf4c15",
   "metadata": {},
   "outputs": [],
   "source": [
    "df['Roll no '] = df['Roll no '].str[-3:]"
   ]
  },
  {
   "cell_type": "code",
   "execution_count": 24,
   "id": "e9dc1f52-b25d-4385-8a0c-34d778bc18fd",
   "metadata": {},
   "outputs": [
    {
     "data": {
      "text/html": [
       "<div>\n",
       "<style scoped>\n",
       "    .dataframe tbody tr th:only-of-type {\n",
       "        vertical-align: middle;\n",
       "    }\n",
       "\n",
       "    .dataframe tbody tr th {\n",
       "        vertical-align: top;\n",
       "    }\n",
       "\n",
       "    .dataframe thead th {\n",
       "        text-align: right;\n",
       "    }\n",
       "</style>\n",
       "<table border=\"1\" class=\"dataframe\">\n",
       "  <thead>\n",
       "    <tr style=\"text-align: right;\">\n",
       "      <th></th>\n",
       "      <th>Timestamp</th>\n",
       "      <th>Email Address</th>\n",
       "      <th>Name</th>\n",
       "      <th>Email</th>\n",
       "      <th>Roll no</th>\n",
       "      <th>PRN No.</th>\n",
       "      <th>Mobile No.</th>\n",
       "      <th>First year:   Sem 1</th>\n",
       "      <th>First year:   Sem 2</th>\n",
       "      <th>Second year:   Sem 1</th>\n",
       "      <th>Second year:   Sem 2</th>\n",
       "    </tr>\n",
       "  </thead>\n",
       "  <tbody>\n",
       "    <tr>\n",
       "      <th>0</th>\n",
       "      <td>1/17/2022 12:45:09</td>\n",
       "      <td>sejal.zambare19@pccoepune.org</td>\n",
       "      <td>Sejal Zambare</td>\n",
       "      <td>sejal.zambare19@gmail.com</td>\n",
       "      <td>359</td>\n",
       "      <td>72026841K</td>\n",
       "      <td>8208217782</td>\n",
       "      <td>8.40</td>\n",
       "      <td>8.60</td>\n",
       "      <td>9.80</td>\n",
       "      <td>9.90</td>\n",
       "    </tr>\n",
       "    <tr>\n",
       "      <th>1</th>\n",
       "      <td>1/17/2022 12:45:44</td>\n",
       "      <td>rushikesh.thorat19@pccoepune.org</td>\n",
       "      <td>Rushikesh Vilas Thorat</td>\n",
       "      <td>rushikesh.thorat19@pccoepune.org</td>\n",
       "      <td>347</td>\n",
       "      <td>72026776F</td>\n",
       "      <td>9021261925</td>\n",
       "      <td>8.14</td>\n",
       "      <td>8.14</td>\n",
       "      <td>9.32</td>\n",
       "      <td>9.82</td>\n",
       "    </tr>\n",
       "    <tr>\n",
       "      <th>2</th>\n",
       "      <td>1/17/2022 12:46:10</td>\n",
       "      <td>atharv.sontakke19@pccoepune.org</td>\n",
       "      <td>Atharv Sontakke</td>\n",
       "      <td>atharv123sontakke@gmail.com</td>\n",
       "      <td>340</td>\n",
       "      <td>72026742M</td>\n",
       "      <td>9009804629</td>\n",
       "      <td>6.61</td>\n",
       "      <td>6.61</td>\n",
       "      <td>9.14</td>\n",
       "      <td>9.14</td>\n",
       "    </tr>\n",
       "    <tr>\n",
       "      <th>3</th>\n",
       "      <td>1/17/2022 12:46:21</td>\n",
       "      <td>amisha.sherekar19@pccoepune.org</td>\n",
       "      <td>Amisha Sunil Sherekar</td>\n",
       "      <td>amisha.sherekar19@pccoepune.org</td>\n",
       "      <td>328</td>\n",
       "      <td>72026696D</td>\n",
       "      <td>8698227548</td>\n",
       "      <td>7.20</td>\n",
       "      <td>7.30</td>\n",
       "      <td>8.90</td>\n",
       "      <td>9.20</td>\n",
       "    </tr>\n",
       "    <tr>\n",
       "      <th>4</th>\n",
       "      <td>1/17/2022 12:46:31</td>\n",
       "      <td>saurabh.sawardekar19@pccoepune.org</td>\n",
       "      <td>Saurabh Raju Sawardekar</td>\n",
       "      <td>saurabh.sawardekar19@pccoepune.org</td>\n",
       "      <td>326</td>\n",
       "      <td>72026682D</td>\n",
       "      <td>7774072850</td>\n",
       "      <td>7.05</td>\n",
       "      <td>7.45</td>\n",
       "      <td>9.05</td>\n",
       "      <td>9.40</td>\n",
       "    </tr>\n",
       "  </tbody>\n",
       "</table>\n",
       "</div>"
      ],
      "text/plain": [
       "            Timestamp                       Email Address  \\\n",
       "0  1/17/2022 12:45:09       sejal.zambare19@pccoepune.org   \n",
       "1  1/17/2022 12:45:44    rushikesh.thorat19@pccoepune.org   \n",
       "2  1/17/2022 12:46:10     atharv.sontakke19@pccoepune.org   \n",
       "3  1/17/2022 12:46:21     amisha.sherekar19@pccoepune.org   \n",
       "4  1/17/2022 12:46:31  saurabh.sawardekar19@pccoepune.org   \n",
       "\n",
       "                      Name                               Email Roll no   \\\n",
       "0            Sejal Zambare           sejal.zambare19@gmail.com      359   \n",
       "1   Rushikesh Vilas Thorat    rushikesh.thorat19@pccoepune.org      347   \n",
       "2          Atharv Sontakke         atharv123sontakke@gmail.com      340   \n",
       "3    Amisha Sunil Sherekar     amisha.sherekar19@pccoepune.org      328   \n",
       "4  Saurabh Raju Sawardekar  saurabh.sawardekar19@pccoepune.org      326   \n",
       "\n",
       "     PRN No.  Mobile No.  First year:   Sem 1  First year:   Sem 2  \\\n",
       "0  72026841K  8208217782                 8.40                 8.60   \n",
       "1  72026776F  9021261925                 8.14                 8.14   \n",
       "2  72026742M  9009804629                 6.61                 6.61   \n",
       "3  72026696D  8698227548                 7.20                 7.30   \n",
       "4  72026682D  7774072850                 7.05                 7.45   \n",
       "\n",
       "   Second year:   Sem 1  Second year:   Sem 2  \n",
       "0                  9.80                  9.90  \n",
       "1                  9.32                  9.82  \n",
       "2                  9.14                  9.14  \n",
       "3                  8.90                  9.20  \n",
       "4                  9.05                  9.40  "
      ]
     },
     "execution_count": 24,
     "metadata": {},
     "output_type": "execute_result"
    }
   ],
   "source": [
    "df.head()"
   ]
  },
  {
   "cell_type": "markdown",
   "id": "8a20b3a8-bd14-46b5-8c65-c3f27601f56a",
   "metadata": {},
   "source": [
    "# Outliers"
   ]
  },
  {
   "cell_type": "code",
   "execution_count": 18,
   "id": "d0f977b5-969b-406a-a1ff-d6f912b03b4d",
   "metadata": {},
   "outputs": [
    {
     "data": {
      "text/plain": [
       "<Axes: ylabel='First year:   Sem 1'>"
      ]
     },
     "execution_count": 18,
     "metadata": {},
     "output_type": "execute_result"
    },
    {
     "data": {
      "image/png": "[encoded data removed]",
      "text/plain": [
       "<Figure size 640x480 with 1 Axes>"
      ]
     },
     "metadata": {},
     "output_type": "display_data"
    }
   ],
   "source": [
    "sns.boxplot(y=df['First year:   Sem 1'])"
   ]
  },
  {
   "cell_type": "code",
   "execution_count": 19,
   "id": "dafd1476-e462-4218-b73a-acc938231f08",
   "metadata": {},
   "outputs": [
    {
     "data": {
      "text/plain": [
       "<Axes: ylabel='First year:   Sem 2'>"
      ]
     },
     "execution_count": 19,
     "metadata": {},
     "output_type": "execute_result"
    },
    {
     "data": {
      "image/png": "[encoded data removed]",
      "text/plain": [
       "<Figure size 640x480 with 1 Axes>"
      ]
     },
     "metadata": {},
     "output_type": "display_data"
    }
   ],
   "source": [
    "sns.boxplot(y=df['First year:   Sem 2'])"
   ]
  },
  {
   "cell_type": "code",
   "execution_count": 21,
   "id": "ff141af2-1748-4820-8ff0-0f75d96b9d6e",
   "metadata": {},
   "outputs": [
    {
     "data": {
      "text/plain": [
       "<Axes: ylabel='Second year:   Sem 1'>"
      ]
     },
     "execution_count": 21,
     "metadata": {},
     "output_type": "execute_result"
    },
    {
     "data": {
      "image/png": "[encoded data removed]",
      "text/plain": [
       "<Figure size 640x480 with 1 Axes>"
      ]
     },
     "metadata": {},
     "output_type": "display_data"
    }
   ],
   "source": [
    "sns.boxplot(y=df['Second year:   Sem 1'])"
   ]
  },
  {
   "cell_type": "code",
   "execution_count": 22,
   "id": "e11fa761-69d6-466d-a245-457010f42c29",
   "metadata": {},
   "outputs": [
    {
     "data": {
      "text/plain": [
       "<Axes: ylabel='Second year:   Sem 2'>"
      ]
     },
     "execution_count": 22,
     "metadata": {},
     "output_type": "execute_result"
    },
    {
     "data": {
      "image/png": "[encoded data removed]",
      "text/plain": [
       "<Figure size 640x480 with 1 Axes>"
      ]
     },
     "metadata": {},
     "output_type": "display_data"
    }
   ],
   "source": [
    "sns.boxplot(y=df['Second year:   Sem 2'])"
   ]
  },
  {
   "cell_type": "code",
   "execution_count": 33,
   "id": "f8a0fd93-eb39-4d22-8e8f-ef2477930eae",
   "metadata": {},
   "outputs": [],
   "source": [
    "# Assuming 'df' is your DataFrame and 'First year: Sem 1' is the column with outliers\n",
    "mean = df['First year:   Sem 1'].mean()\n",
    "std_dev = df['First year:   Sem 1'].std()\n",
    "threshold = 3 * std_dev  # Adjust the threshold as needed\n",
    "df_fys1 = df[(df['First year:   Sem 1'] >= mean - threshold) & (df['First year:   Sem 1'] <= mean + threshold)]['First year:   Sem 1']\n",
    "\n",
    "# Replace the original column with filtered values\n",
    "df['First year:   Sem 1'] = df_fys1"
   ]
  },
  {
   "cell_type": "code",
   "execution_count": 35,
   "id": "cfa131f2-ef53-4a5c-9f6c-34410c8e924e",
   "metadata": {},
   "outputs": [],
   "source": [
    "# Assuming 'df' is your DataFrame and 'First year: Sem 2' is the column with outliers\n",
    "mean1 = df['First year:   Sem 2'].mean()\n",
    "std_dev1 = df['First year:   Sem 2'].std()\n",
    "threshold1 = 3 * std_dev1  # Adjust the threshold as needed\n",
    "df_fys2 = df[(df['First year:   Sem 2'] >= mean1 - threshold1) & (df['First year:   Sem 2'] <= mean1 + threshold1)]['First year:   Sem 2']\n",
    "\n",
    "# Replace the original column with filtered values\n",
    "df['First year:   Sem 2'] = df_fys2"
   ]
  },
  {
   "cell_type": "code",
   "execution_count": 37,
   "id": "0571d8b7-f6d6-4978-8c12-a118f581f0e1",
   "metadata": {},
   "outputs": [],
   "source": [
    "# Assuming 'df' is your DataFrame and 'Second year:   Sem 1' is the column with outliers\n",
    "mean2 = df['Second year:   Sem 1'].mean()\n",
    "std_dev2 = df['Second year:   Sem 1'].std()\n",
    "threshold2 = 3 * std_dev2  # Adjust the threshold as needed\n",
    "df_sys1 = df[(df['Second year:   Sem 1'] >= mean2 - threshold2) & (df['Second year:   Sem 1'] <= mean2 + threshold2)]['Second year:   Sem 1']\n",
    "\n",
    "# Replace the original column with filtered values\n",
    "df['Second year:   Sem 1'] = df_sys1"
   ]
  },
  {
   "cell_type": "code",
   "execution_count": 38,
   "id": "2f9f8357-c30f-430b-9a28-baac7e9cf435",
   "metadata": {},
   "outputs": [],
   "source": [
    "# Assuming 'df' is your DataFrame and 'Second year:   Sem 2' is the column with outliers\n",
    "mean3 = df['Second year:   Sem 2'].mean()\n",
    "std_dev3 = df['Second year:   Sem 2'].std()\n",
    "threshold3 = 3 * std_dev3  # Adjust the threshold as needed\n",
    "df_sys2 = df[(df['Second year:   Sem 2'] >= mean3 - threshold3) & (df['Second year:   Sem 2'] <= mean3 + threshold3)]['Second year:   Sem 2']\n",
    "\n",
    "# Replace the original column with filtered values\n",
    "df['Second year:   Sem 2'] = df_sys2"
   ]
  },
  {
   "cell_type": "code",
   "execution_count": 39,
   "id": "f24b2e2c-1996-443b-8389-da9103170828",
   "metadata": {},
   "outputs": [
    {
     "data": {
      "text/plain": [
       "<Axes: ylabel='First year:   Sem 1'>"
      ]
     },
     "execution_count": 39,
     "metadata": {},
     "output_type": "execute_result"
    },
    {
     "data": {
      "image/png": "[encoded data removed]",
      "text/plain": [
       "<Figure size 640x480 with 1 Axes>"
      ]
     },
     "metadata": {},
     "output_type": "display_data"
    }
   ],
   "source": [
    "sns.boxplot(y=df['First year:   Sem 1'])"
   ]
  },
  {
   "cell_type": "code",
   "execution_count": 40,
   "id": "7c116d20-983e-4180-b981-259b87261a71",
   "metadata": {},
   "outputs": [
    {
     "data": {
      "text/plain": [
       "<Axes: ylabel='First year:   Sem 2'>"
      ]
     },
     "execution_count": 40,
     "metadata": {},
     "output_type": "execute_result"
    },
    {
     "data": {
      "image/png": "[encoded data removed]",
      "text/plain": [
       "<Figure size 640x480 with 1 Axes>"
      ]
     },
     "metadata": {},
     "output_type": "display_data"
    }
   ],
   "source": [
    "sns.boxplot(y=df['First year:   Sem 2'])"
   ]
  },
  {
   "cell_type": "code",
   "execution_count": 41,
   "id": "7fcea7f7-a7b9-413e-b00c-8d100181d2f5",
   "metadata": {},
   "outputs": [
    {
     "data": {
      "text/plain": [
       "<Axes: ylabel='Second year:   Sem 1'>"
      ]
     },
     "execution_count": 41,
     "metadata": {},
     "output_type": "execute_result"
    },
    {
     "data": {
      "image/png": "[encoded data removed]",
      "text/plain": [
       "<Figure size 640x480 with 1 Axes>"
      ]
     },
     "metadata": {},
     "output_type": "display_data"
    }
   ],
   "source": [
    "sns.boxplot(y=df['Second year:   Sem 1'])"
   ]
  },
  {
   "cell_type": "code",
   "execution_count": 42,
   "id": "1f302fa5-f420-486f-a152-2798eaaab092",
   "metadata": {},
   "outputs": [
    {
     "data": {
      "text/plain": [
       "<Axes: ylabel='Second year:   Sem 2'>"
      ]
     },
     "execution_count": 42,
     "metadata": {},
     "output_type": "execute_result"
    },
    {
     "data": {
      "image/png": "[encoded data removed]",
      "text/plain": [
       "<Figure size 640x480 with 1 Axes>"
      ]
     },
     "metadata": {},
     "output_type": "display_data"
    }
   ],
   "source": [
    "sns.boxplot(y=df['Second year:   Sem 2'])"
   ]
  },
  {
   "cell_type": "code",
   "execution_count": null,
   "id": "83d8e1b7-b4b5-4e0e-800d-e41494b68530",
   "metadata": {},
   "outputs": [],
   "source": []
  }
 ],
 "metadata": {
  "kernelspec": {
   "display_name": "Python 3 (ipykernel)",
   "language": "python",
   "name": "python3"
  },
  "language_info": {
   "codemirror_mode": {
    "name": "ipython",
    "version": 3
   },
   "file_extension": ".py",
   "mimetype": "text/x-python",
   "name": "python",
   "nbconvert_exporter": "python",
   "pygments_lexer": "ipython3",
   "version": "3.11.7"
  }
 },
 "nbformat": 4,
 "nbformat_minor": 5
}
