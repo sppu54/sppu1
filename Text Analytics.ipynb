{
 "cells": [
  {
   "cell_type": "markdown",
   "id": "0f61bddc-4d03-4fad-b10b-dd4804d7bdb5",
   "metadata": {},
   "source": [
    "# Tokenization"
   ]
  },
  {
   "cell_type": "code",
   "execution_count": null,
   "id": "ee0eded8-86b3-4926-881e-5c063e3bdbdb",
   "metadata": {},
   "outputs": [
    {
     "name": "stderr",
     "output_type": "stream",
     "text": [
      "[nltk_data] Downloading package punkt to\n",
      "[nltk_data]     C:\\Users\\CHETAN\\AppData\\Roaming\\nltk_data...\n"
     ]
    }
   ],
   "source": [
    "import nltk\n",
    "nltk.download('punkt')\n",
    "nltk.download('wordnet')\n",
    "nltk.download('averaged_perceptron_tagger')\n",
    "nltk.download('stopwords')\n",
    "from nltk import sent_tokenize\n",
    "from nltk import word_tokenize\n",
    "from nltk.corpus import stopwords"
   ]
  },
  {
   "cell_type": "code",
   "execution_count": null,
   "id": "6ff36efa-17e4-433e-a959-42063087e624",
   "metadata": {},
   "outputs": [],
   "source": [
    "text='Real madrid is set to win the UCL for the season . Benzema might win Balon dor . Salah might be the runner up'"
   ]
  },
  {
   "cell_type": "code",
   "execution_count": null,
   "id": "4d6cced2-0331-48ca-8803-4c973c01cbb9",
   "metadata": {},
   "outputs": [],
   "source": [
    "tokens_sents = nltk.sent_tokenize(text)\n",
    "print(tokens_sents)"
   ]
  },
  {
   "cell_type": "code",
   "execution_count": null,
   "id": "89582819-46a0-4a6f-a9d5-fc1bcf36c3d1",
   "metadata": {},
   "outputs": [],
   "source": [
    "tokens_words = nltk.word_tokenize(text)\n",
    "print(tokens_words)"
   ]
  },
  {
   "cell_type": "code",
   "execution_count": null,
   "id": "db4318d7-9c0f-4756-8fa7-a08c73f8880c",
   "metadata": {},
   "outputs": [],
   "source": [
    "from nltk.stem import PorterStemmer\n",
    "from nltk.stem.snowball import SnowballStemmer\n",
    "from nltk.stem import LancasterStemmer"
   ]
  },
  {
   "cell_type": "code",
   "execution_count": null,
   "id": "d47eb694-a577-42ce-adf7-501fec8fef71",
   "metadata": {},
   "outputs": [],
   "source": [
    "stem=[]\n",
    "for i in tokens_words:\n",
    "  ps = PorterStemmer()\n",
    "  stem_word= ps.stem(i)\n",
    "  stem.append(stem_word)\n",
    "print(stem)"
   ]
  },
  {
   "cell_type": "markdown",
   "id": "357332c1-3430-401a-a7ee-0badac4f9942",
   "metadata": {},
   "source": [
    "# Lemmatization"
   ]
  },
  {
   "cell_type": "code",
   "execution_count": null,
   "id": "c4d53efd-655b-48ae-95ae-62bc81928acf",
   "metadata": {},
   "outputs": [],
   "source": [
    "import nltk\n",
    "from nltk.stem import WordNetLemmatizer \n",
    "lemmatizer = WordNetLemmatizer()"
   ]
  },
  {
   "cell_type": "code",
   "execution_count": null,
   "id": "4ef7e910-d0c9-4244-bb3a-f95b42c331b6",
   "metadata": {},
   "outputs": [],
   "source": [
    "lemmatized_output = ' '.join([lemmatizer.lemmatize(w) for w in stem])\n",
    "print(lemmatized_output)"
   ]
  },
  {
   "cell_type": "code",
   "execution_count": null,
   "id": "82a9b4d1-d53e-4739-8843-37cd6bb4870c",
   "metadata": {},
   "outputs": [],
   "source": [
    "leme=[]\n",
    "for i in stem:\n",
    "  lemetized_word=lemmatizer.lemmatize(i)\n",
    "  leme.append(lemetized_word)\n",
    "print(leme)"
   ]
  },
  {
   "cell_type": "markdown",
   "id": "92b3ee8b-ec58-4db0-aff1-9956f49a65f4",
   "metadata": {},
   "source": [
    "# Part of Speech Tagging"
   ]
  },
  {
   "cell_type": "code",
   "execution_count": null,
   "id": "7a7eb619-6931-43a0-931a-d550a7415c87",
   "metadata": {},
   "outputs": [],
   "source": [
    "print(\"Parts of Speech: \",nltk.pos_tag(leme))"
   ]
  },
  {
   "cell_type": "markdown",
   "id": "bad026bd-1231-4af9-a45b-410a3669f557",
   "metadata": {},
   "source": [
    "# Stop Word"
   ]
  },
  {
   "cell_type": "code",
   "execution_count": null,
   "id": "2883d795-2227-40a1-9335-04b35e16fb37",
   "metadata": {},
   "outputs": [],
   "source": [
    "sw_nltk = stopwords.words('english')\n",
    "print(sw_nltk)\n"
   ]
  },
  {
   "cell_type": "code",
   "execution_count": null,
   "id": "6d065a7a-c6cf-420b-9e43-83c50f96a917",
   "metadata": {},
   "outputs": [],
   "source": [
    "words = [word for word in text.split() if word.lower() not in sw_nltk]\n",
    "new_text = \" \".join(words)\n",
    "print(new_text)"
   ]
  },
  {
   "cell_type": "code",
   "execution_count": null,
   "id": "cc405f8c-e045-4260-ba3c-ede8d64f0dca",
   "metadata": {},
   "outputs": [],
   "source": []
  }
 ],
 "metadata": {
  "kernelspec": {
   "display_name": "Python 3 (ipykernel)",
   "language": "python",
   "name": "python3"
  },
  "language_info": {
   "codemirror_mode": {
    "name": "ipython",
    "version": 3
   },
   "file_extension": ".py",
   "mimetype": "text/x-python",
   "name": "python",
   "nbconvert_exporter": "python",
   "pygments_lexer": "ipython3",
   "version": "3.11.7"
  }
 },
 "nbformat": 4,
 "nbformat_minor": 5
}
